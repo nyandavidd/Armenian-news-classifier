{
  "nbformat": 4,
  "nbformat_minor": 0,
  "metadata": {
    "colab": {
      "provenance": [],
      "gpuType": "T4"
    },
    "kernelspec": {
      "name": "python3",
      "display_name": "Python 3"
    },
    "language_info": {
      "name": "python"
    },
    "accelerator": "GPU"
  },
  "cells": [
    {
      "cell_type": "code",
      "source": [
        "import pandas as pd\n",
        "import os\n",
        "import numpy as np\n",
        "import torch\n",
        "from torch import nn\n",
        "from torch import optim\n",
        "from torchtext.data.utils import get_tokenizer\n",
        "from torchtext.vocab import build_vocab_from_iterator\n",
        "from torch.utils.data import Dataset\n",
        "from torch.utils.data import DataLoader\n",
        "from sklearn.model_selection import train_test_split"
      ],
      "metadata": {
        "id": "9t93mUBEJ9z_"
      },
      "execution_count": 1,
      "outputs": []
    },
    {
      "cell_type": "code",
      "source": [
        "cuda0 = torch.device(\"cuda:0\")"
      ],
      "metadata": {
        "id": "vkCRb5LZO1p1"
      },
      "execution_count": 2,
      "outputs": []
    },
    {
      "cell_type": "markdown",
      "source": [
        "Загружаем датасет:"
      ],
      "metadata": {
        "id": "DXrbhD51X6DR"
      }
    },
    {
      "cell_type": "code",
      "execution_count": 3,
      "metadata": {
        "id": "NcpLjrYYI7G1"
      },
      "outputs": [],
      "source": [
        "!echo 'here you can put your kaggle.json' > kaggle.json\n",
        "!mkdir /root/.kaggle\n",
        "!cp kaggle.json /root/.kaggle/\n",
        "!chmod 600 /root/.kaggle/kaggle.json"
      ]
    },
    {
      "cell_type": "code",
      "source": [
        "!kaggle datasets download -d movsisyanm/armenian-news-articles-tertam"
      ],
      "metadata": {
        "colab": {
          "base_uri": "https://localhost:8080/"
        },
        "id": "-lKSKP35MbrL",
        "outputId": "10b80f00-5b96-4787-8d6c-e626de3ecd05"
      },
      "execution_count": 4,
      "outputs": [
        {
          "output_type": "stream",
          "name": "stdout",
          "text": [
            "Downloading armenian-news-articles-tertam.zip to /content\n",
            " 94% 204M/217M [00:01<00:00, 124MB/s]\n",
            "100% 217M/217M [00:01<00:00, 123MB/s]\n"
          ]
        }
      ]
    },
    {
      "cell_type": "code",
      "source": [
        "!unzip armenian-news-articles-tertam.zip"
      ],
      "metadata": {
        "colab": {
          "base_uri": "https://localhost:8080/"
        },
        "id": "nuYBlQYuMofH",
        "outputId": "b945976d-26e6-4c5b-bfe2-d5c8e702b508"
      },
      "execution_count": 5,
      "outputs": [
        {
          "output_type": "stream",
          "name": "stdout",
          "text": [
            "Archive:  armenian-news-articles-tertam.zip\n",
            "  inflating: business.csv            \n",
            "  inflating: categories.md           \n",
            "  inflating: corona.csv              \n",
            "  inflating: culture.csv             \n",
            "  inflating: events.csv              \n",
            "  inflating: law.csv                 \n",
            "  inflating: other.csv               \n",
            "  inflating: politics.csv            \n",
            "  inflating: press_digest.csv        \n",
            "  inflating: sport.csv               \n"
          ]
        }
      ]
    },
    {
      "cell_type": "markdown",
      "source": [
        "Здесь - 9 файлов с новостями и отдельный файл с названиями категорий.\n",
        "\\\n",
        "Посмотрим, сколько заголовков в каждом файле:"
      ],
      "metadata": {
        "id": "k3X09hpFX80w"
      }
    },
    {
      "cell_type": "code",
      "source": [
        "data = []\n",
        "len_lst = []\n",
        "for fname in os.listdir('/content'):\n",
        "  if fname[-3:] == 'csv':\n",
        "    data.append(pd.read_csv(fname))\n",
        "    len_lst.append([fname[:-4], len(data[-1])])"
      ],
      "metadata": {
        "id": "8YysyhGaNEZ1"
      },
      "execution_count": 6,
      "outputs": []
    },
    {
      "cell_type": "code",
      "source": [
        "for cat, count in len_lst:\n",
        "  print(\"%s : %d\" % (cat , count))"
      ],
      "metadata": {
        "colab": {
          "base_uri": "https://localhost:8080/"
        },
        "id": "tpUaOI7GOfzI",
        "outputId": "5885f167-7973-4985-a4dc-d89f7e6bcbf1"
      },
      "execution_count": 7,
      "outputs": [
        {
          "output_type": "stream",
          "name": "stdout",
          "text": [
            "politics : 21315\n",
            "other : 11818\n",
            "law : 6225\n",
            "sport : 84346\n",
            "press_digest : 33757\n",
            "culture : 21860\n",
            "business : 31337\n",
            "corona : 8850\n",
            "events : 194924\n"
          ]
        }
      ]
    },
    {
      "cell_type": "code",
      "source": [
        "len_lst = list(map(lambda el: el[1], len_lst))"
      ],
      "metadata": {
        "id": "3xohst11VbPD"
      },
      "execution_count": 8,
      "outputs": []
    },
    {
      "cell_type": "code",
      "source": [
        "print(\"min: %d\" % min(len_lst))\n",
        "print(\"max: %d\" % max(len_lst))"
      ],
      "metadata": {
        "colab": {
          "base_uri": "https://localhost:8080/"
        },
        "id": "rrLQRRyMTwef",
        "outputId": "afa5cf18-5b97-4c81-d275-c145769889de"
      },
      "execution_count": 9,
      "outputs": [
        {
          "output_type": "stream",
          "name": "stdout",
          "text": [
            "min: 6225\n",
            "max: 194924\n"
          ]
        }
      ]
    },
    {
      "cell_type": "code",
      "source": [
        "np.mean(len_lst)"
      ],
      "metadata": {
        "colab": {
          "base_uri": "https://localhost:8080/"
        },
        "id": "JAzKxnIEWcGI",
        "outputId": "486ba694-4451-4309-b150-2da002f3dbd4"
      },
      "execution_count": 10,
      "outputs": [
        {
          "output_type": "execute_result",
          "data": {
            "text/plain": [
              "46048.0"
            ]
          },
          "metadata": {},
          "execution_count": 10
        }
      ]
    },
    {
      "cell_type": "code",
      "source": [
        "np.std(len_lst)"
      ],
      "metadata": {
        "colab": {
          "base_uri": "https://localhost:8080/"
        },
        "id": "y1d-O5EiWhl0",
        "outputId": "5d6aa70b-d9b8-4cdb-a306-ee081d86296d"
      },
      "execution_count": 11,
      "outputs": [
        {
          "output_type": "execute_result",
          "data": {
            "text/plain": [
              "57092.8273837149"
            ]
          },
          "metadata": {},
          "execution_count": 11
        }
      ]
    },
    {
      "cell_type": "code",
      "source": [
        "data = pd.concat(data)"
      ],
      "metadata": {
        "id": "VG1VEAW-Yx0I"
      },
      "execution_count": 12,
      "outputs": []
    },
    {
      "cell_type": "code",
      "source": [
        "data.head()"
      ],
      "metadata": {
        "colab": {
          "base_uri": "https://localhost:8080/",
          "height": 206
        },
        "id": "GXas1Sigdak3",
        "outputId": "03eb38c6-45e4-405f-b156-cd76ed21a6aa"
      },
      "execution_count": 13,
      "outputs": [
        {
          "output_type": "execute_result",
          "data": {
            "text/plain": [
              "                                               title                 date  \\\n",
              "0  Առողջապահության նախարարի՝ հոկտեմբերի 1-ից ուժի...  2021-09-24 19:14:00   \n",
              "1  Ադրբեջանը շարունակում է թաքցնել գերիների իրակա...  2021-09-24 20:21:00   \n",
              "2  Այն, որ ՀՀ-ն հիմա ՀԱՊԿ նախագահող է, մեզ լրացու...  2021-09-23 18:42:00   \n",
              "3  Փաշինյան-Էրդողան հանդիպում նախատեսված չէ. Սուր...  2021-09-23 19:09:00   \n",
              "4  Ֆրենկ Փալոնը շնորհավորել է Անկախության տոնի կա...  2021-09-21 22:27:00   \n",
              "\n",
              "                                             content  category  \n",
              "0  «Հայաստան» խմբակցությունը հաշվի առնելով հանրայ...         4  \n",
              "1  Սեպտեմբերի 24-ին Նյու Յորքում ՄԱԿ-ի Գլխավոր աս...         4  \n",
              "2   «Ազատություն» ՌԿ եթերում ՀՀ փոխվարչապետ Սուրե...         4  \n",
              "3  Մեկնաբանություն չունեմ, ես հիմա պիտի Էրդողանին...         4  \n",
              "4  ԱՄՆ Կոնգրեսի հայկական հարցերի հանձնախմբի համան...         4  "
            ],
            "text/html": [
              "\n",
              "  <div id=\"df-7d6fc5f8-2dbb-4a08-aa89-6d939b917d02\" class=\"colab-df-container\">\n",
              "    <div>\n",
              "<style scoped>\n",
              "    .dataframe tbody tr th:only-of-type {\n",
              "        vertical-align: middle;\n",
              "    }\n",
              "\n",
              "    .dataframe tbody tr th {\n",
              "        vertical-align: top;\n",
              "    }\n",
              "\n",
              "    .dataframe thead th {\n",
              "        text-align: right;\n",
              "    }\n",
              "</style>\n",
              "<table border=\"1\" class=\"dataframe\">\n",
              "  <thead>\n",
              "    <tr style=\"text-align: right;\">\n",
              "      <th></th>\n",
              "      <th>title</th>\n",
              "      <th>date</th>\n",
              "      <th>content</th>\n",
              "      <th>category</th>\n",
              "    </tr>\n",
              "  </thead>\n",
              "  <tbody>\n",
              "    <tr>\n",
              "      <th>0</th>\n",
              "      <td>Առողջապահության նախարարի՝ հոկտեմբերի 1-ից ուժի...</td>\n",
              "      <td>2021-09-24 19:14:00</td>\n",
              "      <td>«Հայաստան» խմբակցությունը հաշվի առնելով հանրայ...</td>\n",
              "      <td>4</td>\n",
              "    </tr>\n",
              "    <tr>\n",
              "      <th>1</th>\n",
              "      <td>Ադրբեջանը շարունակում է թաքցնել գերիների իրակա...</td>\n",
              "      <td>2021-09-24 20:21:00</td>\n",
              "      <td>Սեպտեմբերի 24-ին Նյու Յորքում ՄԱԿ-ի Գլխավոր աս...</td>\n",
              "      <td>4</td>\n",
              "    </tr>\n",
              "    <tr>\n",
              "      <th>2</th>\n",
              "      <td>Այն, որ ՀՀ-ն հիմա ՀԱՊԿ նախագահող է, մեզ լրացու...</td>\n",
              "      <td>2021-09-23 18:42:00</td>\n",
              "      <td>«Ազատություն» ՌԿ եթերում ՀՀ փոխվարչապետ Սուրե...</td>\n",
              "      <td>4</td>\n",
              "    </tr>\n",
              "    <tr>\n",
              "      <th>3</th>\n",
              "      <td>Փաշինյան-Էրդողան հանդիպում նախատեսված չէ. Սուր...</td>\n",
              "      <td>2021-09-23 19:09:00</td>\n",
              "      <td>Մեկնաբանություն չունեմ, ես հիմա պիտի Էրդողանին...</td>\n",
              "      <td>4</td>\n",
              "    </tr>\n",
              "    <tr>\n",
              "      <th>4</th>\n",
              "      <td>Ֆրենկ Փալոնը շնորհավորել է Անկախության տոնի կա...</td>\n",
              "      <td>2021-09-21 22:27:00</td>\n",
              "      <td>ԱՄՆ Կոնգրեսի հայկական հարցերի հանձնախմբի համան...</td>\n",
              "      <td>4</td>\n",
              "    </tr>\n",
              "  </tbody>\n",
              "</table>\n",
              "</div>\n",
              "    <div class=\"colab-df-buttons\">\n",
              "\n",
              "  <div class=\"colab-df-container\">\n",
              "    <button class=\"colab-df-convert\" onclick=\"convertToInteractive('df-7d6fc5f8-2dbb-4a08-aa89-6d939b917d02')\"\n",
              "            title=\"Convert this dataframe to an interactive table.\"\n",
              "            style=\"display:none;\">\n",
              "\n",
              "  <svg xmlns=\"http://www.w3.org/2000/svg\" height=\"24px\" viewBox=\"0 -960 960 960\">\n",
              "    <path d=\"M120-120v-720h720v720H120Zm60-500h600v-160H180v160Zm220 220h160v-160H400v160Zm0 220h160v-160H400v160ZM180-400h160v-160H180v160Zm440 0h160v-160H620v160ZM180-180h160v-160H180v160Zm440 0h160v-160H620v160Z\"/>\n",
              "  </svg>\n",
              "    </button>\n",
              "\n",
              "  <style>\n",
              "    .colab-df-container {\n",
              "      display:flex;\n",
              "      gap: 12px;\n",
              "    }\n",
              "\n",
              "    .colab-df-convert {\n",
              "      background-color: #E8F0FE;\n",
              "      border: none;\n",
              "      border-radius: 50%;\n",
              "      cursor: pointer;\n",
              "      display: none;\n",
              "      fill: #1967D2;\n",
              "      height: 32px;\n",
              "      padding: 0 0 0 0;\n",
              "      width: 32px;\n",
              "    }\n",
              "\n",
              "    .colab-df-convert:hover {\n",
              "      background-color: #E2EBFA;\n",
              "      box-shadow: 0px 1px 2px rgba(60, 64, 67, 0.3), 0px 1px 3px 1px rgba(60, 64, 67, 0.15);\n",
              "      fill: #174EA6;\n",
              "    }\n",
              "\n",
              "    .colab-df-buttons div {\n",
              "      margin-bottom: 4px;\n",
              "    }\n",
              "\n",
              "    [theme=dark] .colab-df-convert {\n",
              "      background-color: #3B4455;\n",
              "      fill: #D2E3FC;\n",
              "    }\n",
              "\n",
              "    [theme=dark] .colab-df-convert:hover {\n",
              "      background-color: #434B5C;\n",
              "      box-shadow: 0px 1px 3px 1px rgba(0, 0, 0, 0.15);\n",
              "      filter: drop-shadow(0px 1px 2px rgba(0, 0, 0, 0.3));\n",
              "      fill: #FFFFFF;\n",
              "    }\n",
              "  </style>\n",
              "\n",
              "    <script>\n",
              "      const buttonEl =\n",
              "        document.querySelector('#df-7d6fc5f8-2dbb-4a08-aa89-6d939b917d02 button.colab-df-convert');\n",
              "      buttonEl.style.display =\n",
              "        google.colab.kernel.accessAllowed ? 'block' : 'none';\n",
              "\n",
              "      async function convertToInteractive(key) {\n",
              "        const element = document.querySelector('#df-7d6fc5f8-2dbb-4a08-aa89-6d939b917d02');\n",
              "        const dataTable =\n",
              "          await google.colab.kernel.invokeFunction('convertToInteractive',\n",
              "                                                    [key], {});\n",
              "        if (!dataTable) return;\n",
              "\n",
              "        const docLinkHtml = 'Like what you see? Visit the ' +\n",
              "          '<a target=\"_blank\" href=https://colab.research.google.com/notebooks/data_table.ipynb>data table notebook</a>'\n",
              "          + ' to learn more about interactive tables.';\n",
              "        element.innerHTML = '';\n",
              "        dataTable['output_type'] = 'display_data';\n",
              "        await google.colab.output.renderOutput(dataTable, element);\n",
              "        const docLink = document.createElement('div');\n",
              "        docLink.innerHTML = docLinkHtml;\n",
              "        element.appendChild(docLink);\n",
              "      }\n",
              "    </script>\n",
              "  </div>\n",
              "\n",
              "\n",
              "<div id=\"df-1e57b805-28d1-4c4f-a6c5-f2dd741a19f5\">\n",
              "  <button class=\"colab-df-quickchart\" onclick=\"quickchart('df-1e57b805-28d1-4c4f-a6c5-f2dd741a19f5')\"\n",
              "            title=\"Suggest charts\"\n",
              "            style=\"display:none;\">\n",
              "\n",
              "<svg xmlns=\"http://www.w3.org/2000/svg\" height=\"24px\"viewBox=\"0 0 24 24\"\n",
              "     width=\"24px\">\n",
              "    <g>\n",
              "        <path d=\"M19 3H5c-1.1 0-2 .9-2 2v14c0 1.1.9 2 2 2h14c1.1 0 2-.9 2-2V5c0-1.1-.9-2-2-2zM9 17H7v-7h2v7zm4 0h-2V7h2v10zm4 0h-2v-4h2v4z\"/>\n",
              "    </g>\n",
              "</svg>\n",
              "  </button>\n",
              "\n",
              "<style>\n",
              "  .colab-df-quickchart {\n",
              "      --bg-color: #E8F0FE;\n",
              "      --fill-color: #1967D2;\n",
              "      --hover-bg-color: #E2EBFA;\n",
              "      --hover-fill-color: #174EA6;\n",
              "      --disabled-fill-color: #AAA;\n",
              "      --disabled-bg-color: #DDD;\n",
              "  }\n",
              "\n",
              "  [theme=dark] .colab-df-quickchart {\n",
              "      --bg-color: #3B4455;\n",
              "      --fill-color: #D2E3FC;\n",
              "      --hover-bg-color: #434B5C;\n",
              "      --hover-fill-color: #FFFFFF;\n",
              "      --disabled-bg-color: #3B4455;\n",
              "      --disabled-fill-color: #666;\n",
              "  }\n",
              "\n",
              "  .colab-df-quickchart {\n",
              "    background-color: var(--bg-color);\n",
              "    border: none;\n",
              "    border-radius: 50%;\n",
              "    cursor: pointer;\n",
              "    display: none;\n",
              "    fill: var(--fill-color);\n",
              "    height: 32px;\n",
              "    padding: 0;\n",
              "    width: 32px;\n",
              "  }\n",
              "\n",
              "  .colab-df-quickchart:hover {\n",
              "    background-color: var(--hover-bg-color);\n",
              "    box-shadow: 0 1px 2px rgba(60, 64, 67, 0.3), 0 1px 3px 1px rgba(60, 64, 67, 0.15);\n",
              "    fill: var(--button-hover-fill-color);\n",
              "  }\n",
              "\n",
              "  .colab-df-quickchart-complete:disabled,\n",
              "  .colab-df-quickchart-complete:disabled:hover {\n",
              "    background-color: var(--disabled-bg-color);\n",
              "    fill: var(--disabled-fill-color);\n",
              "    box-shadow: none;\n",
              "  }\n",
              "\n",
              "  .colab-df-spinner {\n",
              "    border: 2px solid var(--fill-color);\n",
              "    border-color: transparent;\n",
              "    border-bottom-color: var(--fill-color);\n",
              "    animation:\n",
              "      spin 1s steps(1) infinite;\n",
              "  }\n",
              "\n",
              "  @keyframes spin {\n",
              "    0% {\n",
              "      border-color: transparent;\n",
              "      border-bottom-color: var(--fill-color);\n",
              "      border-left-color: var(--fill-color);\n",
              "    }\n",
              "    20% {\n",
              "      border-color: transparent;\n",
              "      border-left-color: var(--fill-color);\n",
              "      border-top-color: var(--fill-color);\n",
              "    }\n",
              "    30% {\n",
              "      border-color: transparent;\n",
              "      border-left-color: var(--fill-color);\n",
              "      border-top-color: var(--fill-color);\n",
              "      border-right-color: var(--fill-color);\n",
              "    }\n",
              "    40% {\n",
              "      border-color: transparent;\n",
              "      border-right-color: var(--fill-color);\n",
              "      border-top-color: var(--fill-color);\n",
              "    }\n",
              "    60% {\n",
              "      border-color: transparent;\n",
              "      border-right-color: var(--fill-color);\n",
              "    }\n",
              "    80% {\n",
              "      border-color: transparent;\n",
              "      border-right-color: var(--fill-color);\n",
              "      border-bottom-color: var(--fill-color);\n",
              "    }\n",
              "    90% {\n",
              "      border-color: transparent;\n",
              "      border-bottom-color: var(--fill-color);\n",
              "    }\n",
              "  }\n",
              "</style>\n",
              "\n",
              "  <script>\n",
              "    async function quickchart(key) {\n",
              "      const quickchartButtonEl =\n",
              "        document.querySelector('#' + key + ' button');\n",
              "      quickchartButtonEl.disabled = true;  // To prevent multiple clicks.\n",
              "      quickchartButtonEl.classList.add('colab-df-spinner');\n",
              "      try {\n",
              "        const charts = await google.colab.kernel.invokeFunction(\n",
              "            'suggestCharts', [key], {});\n",
              "      } catch (error) {\n",
              "        console.error('Error during call to suggestCharts:', error);\n",
              "      }\n",
              "      quickchartButtonEl.classList.remove('colab-df-spinner');\n",
              "      quickchartButtonEl.classList.add('colab-df-quickchart-complete');\n",
              "    }\n",
              "    (() => {\n",
              "      let quickchartButtonEl =\n",
              "        document.querySelector('#df-1e57b805-28d1-4c4f-a6c5-f2dd741a19f5 button');\n",
              "      quickchartButtonEl.style.display =\n",
              "        google.colab.kernel.accessAllowed ? 'block' : 'none';\n",
              "    })();\n",
              "  </script>\n",
              "</div>\n",
              "    </div>\n",
              "  </div>\n"
            ]
          },
          "metadata": {},
          "execution_count": 13
        }
      ]
    },
    {
      "cell_type": "code",
      "source": [
        "print(data.dtypes)"
      ],
      "metadata": {
        "colab": {
          "base_uri": "https://localhost:8080/"
        },
        "id": "g6r2HCBpZiBY",
        "outputId": "236312f0-d316-489a-8cad-f3ba0a274b78"
      },
      "execution_count": 14,
      "outputs": [
        {
          "output_type": "stream",
          "name": "stdout",
          "text": [
            "title       object\n",
            "date        object\n",
            "content     object\n",
            "category     int64\n",
            "dtype: object\n"
          ]
        }
      ]
    },
    {
      "cell_type": "code",
      "source": [
        "len(data)"
      ],
      "metadata": {
        "colab": {
          "base_uri": "https://localhost:8080/"
        },
        "id": "DdYyieeBZb5H",
        "outputId": "f5a1a46e-c343-47c5-c30c-5bce3aab5b20"
      },
      "execution_count": 15,
      "outputs": [
        {
          "output_type": "execute_result",
          "data": {
            "text/plain": [
              "414432"
            ]
          },
          "metadata": {},
          "execution_count": 15
        }
      ]
    },
    {
      "cell_type": "markdown",
      "source": [
        "В датасете хранятся данные о заголовке, времени, тексте новости и её категории."
      ],
      "metadata": {
        "id": "KVYTbAtFdckR"
      }
    },
    {
      "cell_type": "markdown",
      "source": [
        "Проверим, все ли столбцы заполнены:"
      ],
      "metadata": {
        "id": "rlg_fx52aL3o"
      }
    },
    {
      "cell_type": "code",
      "source": [
        "data.columns[data.isna().any()].tolist()"
      ],
      "metadata": {
        "colab": {
          "base_uri": "https://localhost:8080/"
        },
        "id": "TWmgiojtaCPE",
        "outputId": "d502cfd8-7dc6-483a-db45-09dc4562c8f6"
      },
      "execution_count": 16,
      "outputs": [
        {
          "output_type": "execute_result",
          "data": {
            "text/plain": [
              "['content']"
            ]
          },
          "metadata": {},
          "execution_count": 16
        }
      ]
    },
    {
      "cell_type": "code",
      "source": [
        "data['content'].isna().sum() # количество пропусков"
      ],
      "metadata": {
        "colab": {
          "base_uri": "https://localhost:8080/"
        },
        "id": "J1AnZRjNaQ8x",
        "outputId": "f7eb65c2-1878-45e9-e1af-8e27154b57a9"
      },
      "execution_count": 17,
      "outputs": [
        {
          "output_type": "execute_result",
          "data": {
            "text/plain": [
              "1107"
            ]
          },
          "metadata": {},
          "execution_count": 17
        }
      ]
    },
    {
      "cell_type": "code",
      "source": [
        "data.dropna(inplace = True) # удалили строки с пропущенным текстом"
      ],
      "metadata": {
        "id": "1qchWaFjb1Pi"
      },
      "execution_count": 18,
      "outputs": []
    },
    {
      "cell_type": "code",
      "source": [
        "data.describe()"
      ],
      "metadata": {
        "colab": {
          "base_uri": "https://localhost:8080/",
          "height": 300
        },
        "id": "RbAIjr8Pb-KW",
        "outputId": "cd809dee-4266-47c4-b824-fed875a834da"
      },
      "execution_count": 19,
      "outputs": [
        {
          "output_type": "execute_result",
          "data": {
            "text/plain": [
              "            category\n",
              "count  413325.000000\n",
              "mean        3.250781\n",
              "std         2.136672\n",
              "min         0.000000\n",
              "25%         2.000000\n",
              "50%         2.000000\n",
              "75%         6.000000\n",
              "max         8.000000"
            ],
            "text/html": [
              "\n",
              "  <div id=\"df-92ad49b3-884f-47f9-92cd-6bc4a846e5c5\" class=\"colab-df-container\">\n",
              "    <div>\n",
              "<style scoped>\n",
              "    .dataframe tbody tr th:only-of-type {\n",
              "        vertical-align: middle;\n",
              "    }\n",
              "\n",
              "    .dataframe tbody tr th {\n",
              "        vertical-align: top;\n",
              "    }\n",
              "\n",
              "    .dataframe thead th {\n",
              "        text-align: right;\n",
              "    }\n",
              "</style>\n",
              "<table border=\"1\" class=\"dataframe\">\n",
              "  <thead>\n",
              "    <tr style=\"text-align: right;\">\n",
              "      <th></th>\n",
              "      <th>category</th>\n",
              "    </tr>\n",
              "  </thead>\n",
              "  <tbody>\n",
              "    <tr>\n",
              "      <th>count</th>\n",
              "      <td>413325.000000</td>\n",
              "    </tr>\n",
              "    <tr>\n",
              "      <th>mean</th>\n",
              "      <td>3.250781</td>\n",
              "    </tr>\n",
              "    <tr>\n",
              "      <th>std</th>\n",
              "      <td>2.136672</td>\n",
              "    </tr>\n",
              "    <tr>\n",
              "      <th>min</th>\n",
              "      <td>0.000000</td>\n",
              "    </tr>\n",
              "    <tr>\n",
              "      <th>25%</th>\n",
              "      <td>2.000000</td>\n",
              "    </tr>\n",
              "    <tr>\n",
              "      <th>50%</th>\n",
              "      <td>2.000000</td>\n",
              "    </tr>\n",
              "    <tr>\n",
              "      <th>75%</th>\n",
              "      <td>6.000000</td>\n",
              "    </tr>\n",
              "    <tr>\n",
              "      <th>max</th>\n",
              "      <td>8.000000</td>\n",
              "    </tr>\n",
              "  </tbody>\n",
              "</table>\n",
              "</div>\n",
              "    <div class=\"colab-df-buttons\">\n",
              "\n",
              "  <div class=\"colab-df-container\">\n",
              "    <button class=\"colab-df-convert\" onclick=\"convertToInteractive('df-92ad49b3-884f-47f9-92cd-6bc4a846e5c5')\"\n",
              "            title=\"Convert this dataframe to an interactive table.\"\n",
              "            style=\"display:none;\">\n",
              "\n",
              "  <svg xmlns=\"http://www.w3.org/2000/svg\" height=\"24px\" viewBox=\"0 -960 960 960\">\n",
              "    <path d=\"M120-120v-720h720v720H120Zm60-500h600v-160H180v160Zm220 220h160v-160H400v160Zm0 220h160v-160H400v160ZM180-400h160v-160H180v160Zm440 0h160v-160H620v160ZM180-180h160v-160H180v160Zm440 0h160v-160H620v160Z\"/>\n",
              "  </svg>\n",
              "    </button>\n",
              "\n",
              "  <style>\n",
              "    .colab-df-container {\n",
              "      display:flex;\n",
              "      gap: 12px;\n",
              "    }\n",
              "\n",
              "    .colab-df-convert {\n",
              "      background-color: #E8F0FE;\n",
              "      border: none;\n",
              "      border-radius: 50%;\n",
              "      cursor: pointer;\n",
              "      display: none;\n",
              "      fill: #1967D2;\n",
              "      height: 32px;\n",
              "      padding: 0 0 0 0;\n",
              "      width: 32px;\n",
              "    }\n",
              "\n",
              "    .colab-df-convert:hover {\n",
              "      background-color: #E2EBFA;\n",
              "      box-shadow: 0px 1px 2px rgba(60, 64, 67, 0.3), 0px 1px 3px 1px rgba(60, 64, 67, 0.15);\n",
              "      fill: #174EA6;\n",
              "    }\n",
              "\n",
              "    .colab-df-buttons div {\n",
              "      margin-bottom: 4px;\n",
              "    }\n",
              "\n",
              "    [theme=dark] .colab-df-convert {\n",
              "      background-color: #3B4455;\n",
              "      fill: #D2E3FC;\n",
              "    }\n",
              "\n",
              "    [theme=dark] .colab-df-convert:hover {\n",
              "      background-color: #434B5C;\n",
              "      box-shadow: 0px 1px 3px 1px rgba(0, 0, 0, 0.15);\n",
              "      filter: drop-shadow(0px 1px 2px rgba(0, 0, 0, 0.3));\n",
              "      fill: #FFFFFF;\n",
              "    }\n",
              "  </style>\n",
              "\n",
              "    <script>\n",
              "      const buttonEl =\n",
              "        document.querySelector('#df-92ad49b3-884f-47f9-92cd-6bc4a846e5c5 button.colab-df-convert');\n",
              "      buttonEl.style.display =\n",
              "        google.colab.kernel.accessAllowed ? 'block' : 'none';\n",
              "\n",
              "      async function convertToInteractive(key) {\n",
              "        const element = document.querySelector('#df-92ad49b3-884f-47f9-92cd-6bc4a846e5c5');\n",
              "        const dataTable =\n",
              "          await google.colab.kernel.invokeFunction('convertToInteractive',\n",
              "                                                    [key], {});\n",
              "        if (!dataTable) return;\n",
              "\n",
              "        const docLinkHtml = 'Like what you see? Visit the ' +\n",
              "          '<a target=\"_blank\" href=https://colab.research.google.com/notebooks/data_table.ipynb>data table notebook</a>'\n",
              "          + ' to learn more about interactive tables.';\n",
              "        element.innerHTML = '';\n",
              "        dataTable['output_type'] = 'display_data';\n",
              "        await google.colab.output.renderOutput(dataTable, element);\n",
              "        const docLink = document.createElement('div');\n",
              "        docLink.innerHTML = docLinkHtml;\n",
              "        element.appendChild(docLink);\n",
              "      }\n",
              "    </script>\n",
              "  </div>\n",
              "\n",
              "\n",
              "<div id=\"df-288fef3b-2fc6-410d-93c3-0889f62b23fd\">\n",
              "  <button class=\"colab-df-quickchart\" onclick=\"quickchart('df-288fef3b-2fc6-410d-93c3-0889f62b23fd')\"\n",
              "            title=\"Suggest charts\"\n",
              "            style=\"display:none;\">\n",
              "\n",
              "<svg xmlns=\"http://www.w3.org/2000/svg\" height=\"24px\"viewBox=\"0 0 24 24\"\n",
              "     width=\"24px\">\n",
              "    <g>\n",
              "        <path d=\"M19 3H5c-1.1 0-2 .9-2 2v14c0 1.1.9 2 2 2h14c1.1 0 2-.9 2-2V5c0-1.1-.9-2-2-2zM9 17H7v-7h2v7zm4 0h-2V7h2v10zm4 0h-2v-4h2v4z\"/>\n",
              "    </g>\n",
              "</svg>\n",
              "  </button>\n",
              "\n",
              "<style>\n",
              "  .colab-df-quickchart {\n",
              "      --bg-color: #E8F0FE;\n",
              "      --fill-color: #1967D2;\n",
              "      --hover-bg-color: #E2EBFA;\n",
              "      --hover-fill-color: #174EA6;\n",
              "      --disabled-fill-color: #AAA;\n",
              "      --disabled-bg-color: #DDD;\n",
              "  }\n",
              "\n",
              "  [theme=dark] .colab-df-quickchart {\n",
              "      --bg-color: #3B4455;\n",
              "      --fill-color: #D2E3FC;\n",
              "      --hover-bg-color: #434B5C;\n",
              "      --hover-fill-color: #FFFFFF;\n",
              "      --disabled-bg-color: #3B4455;\n",
              "      --disabled-fill-color: #666;\n",
              "  }\n",
              "\n",
              "  .colab-df-quickchart {\n",
              "    background-color: var(--bg-color);\n",
              "    border: none;\n",
              "    border-radius: 50%;\n",
              "    cursor: pointer;\n",
              "    display: none;\n",
              "    fill: var(--fill-color);\n",
              "    height: 32px;\n",
              "    padding: 0;\n",
              "    width: 32px;\n",
              "  }\n",
              "\n",
              "  .colab-df-quickchart:hover {\n",
              "    background-color: var(--hover-bg-color);\n",
              "    box-shadow: 0 1px 2px rgba(60, 64, 67, 0.3), 0 1px 3px 1px rgba(60, 64, 67, 0.15);\n",
              "    fill: var(--button-hover-fill-color);\n",
              "  }\n",
              "\n",
              "  .colab-df-quickchart-complete:disabled,\n",
              "  .colab-df-quickchart-complete:disabled:hover {\n",
              "    background-color: var(--disabled-bg-color);\n",
              "    fill: var(--disabled-fill-color);\n",
              "    box-shadow: none;\n",
              "  }\n",
              "\n",
              "  .colab-df-spinner {\n",
              "    border: 2px solid var(--fill-color);\n",
              "    border-color: transparent;\n",
              "    border-bottom-color: var(--fill-color);\n",
              "    animation:\n",
              "      spin 1s steps(1) infinite;\n",
              "  }\n",
              "\n",
              "  @keyframes spin {\n",
              "    0% {\n",
              "      border-color: transparent;\n",
              "      border-bottom-color: var(--fill-color);\n",
              "      border-left-color: var(--fill-color);\n",
              "    }\n",
              "    20% {\n",
              "      border-color: transparent;\n",
              "      border-left-color: var(--fill-color);\n",
              "      border-top-color: var(--fill-color);\n",
              "    }\n",
              "    30% {\n",
              "      border-color: transparent;\n",
              "      border-left-color: var(--fill-color);\n",
              "      border-top-color: var(--fill-color);\n",
              "      border-right-color: var(--fill-color);\n",
              "    }\n",
              "    40% {\n",
              "      border-color: transparent;\n",
              "      border-right-color: var(--fill-color);\n",
              "      border-top-color: var(--fill-color);\n",
              "    }\n",
              "    60% {\n",
              "      border-color: transparent;\n",
              "      border-right-color: var(--fill-color);\n",
              "    }\n",
              "    80% {\n",
              "      border-color: transparent;\n",
              "      border-right-color: var(--fill-color);\n",
              "      border-bottom-color: var(--fill-color);\n",
              "    }\n",
              "    90% {\n",
              "      border-color: transparent;\n",
              "      border-bottom-color: var(--fill-color);\n",
              "    }\n",
              "  }\n",
              "</style>\n",
              "\n",
              "  <script>\n",
              "    async function quickchart(key) {\n",
              "      const quickchartButtonEl =\n",
              "        document.querySelector('#' + key + ' button');\n",
              "      quickchartButtonEl.disabled = true;  // To prevent multiple clicks.\n",
              "      quickchartButtonEl.classList.add('colab-df-spinner');\n",
              "      try {\n",
              "        const charts = await google.colab.kernel.invokeFunction(\n",
              "            'suggestCharts', [key], {});\n",
              "      } catch (error) {\n",
              "        console.error('Error during call to suggestCharts:', error);\n",
              "      }\n",
              "      quickchartButtonEl.classList.remove('colab-df-spinner');\n",
              "      quickchartButtonEl.classList.add('colab-df-quickchart-complete');\n",
              "    }\n",
              "    (() => {\n",
              "      let quickchartButtonEl =\n",
              "        document.querySelector('#df-288fef3b-2fc6-410d-93c3-0889f62b23fd button');\n",
              "      quickchartButtonEl.style.display =\n",
              "        google.colab.kernel.accessAllowed ? 'block' : 'none';\n",
              "    })();\n",
              "  </script>\n",
              "</div>\n",
              "    </div>\n",
              "  </div>\n"
            ]
          },
          "metadata": {},
          "execution_count": 19
        }
      ]
    },
    {
      "cell_type": "code",
      "source": [
        "data"
      ],
      "metadata": {
        "colab": {
          "base_uri": "https://localhost:8080/",
          "height": 423
        },
        "id": "wPde9ZJbci9R",
        "outputId": "756f7fd2-e4ea-474c-8184-3a5dec2879ef"
      },
      "execution_count": 20,
      "outputs": [
        {
          "output_type": "execute_result",
          "data": {
            "text/plain": [
              "                                                    title  \\\n",
              "0       Առողջապահության նախարարի՝ հոկտեմբերի 1-ից ուժի...   \n",
              "1       Ադրբեջանը շարունակում է թաքցնել գերիների իրակա...   \n",
              "2       Այն, որ ՀՀ-ն հիմա ՀԱՊԿ նախագահող է, մեզ լրացու...   \n",
              "3       Փաշինյան-Էրդողան հանդիպում նախատեսված չէ. Սուր...   \n",
              "4       Ֆրենկ Փալոնը շնորհավորել է Անկախության տոնի կա...   \n",
              "...                                                   ...   \n",
              "194919                    Պակիստանում զոհերի թիվն աճում է   \n",
              "194920  Չինաստանում հրդեհի արդյունքում զոհվել են տասնյ...   \n",
              "194921  Իրաքում ահաբեկչական գործողությունների հետևանքո...   \n",
              "194922  Իսպանիան հայտնվել է ահաբեկչությունների կիզակետում   \n",
              "194923  Չինաստանում ավելի քան 13 հազ. մանուկներ են տեղ...   \n",
              "\n",
              "                       date  \\\n",
              "0       2021-09-24 19:14:00   \n",
              "1       2021-09-24 20:21:00   \n",
              "2       2021-09-23 18:42:00   \n",
              "3       2021-09-23 19:09:00   \n",
              "4       2021-09-21 22:27:00   \n",
              "...                     ...   \n",
              "194919  2008-09-21 14:57:00   \n",
              "194920  2008-09-21 15:17:00   \n",
              "194921  2008-09-22 10:04:00   \n",
              "194922  2008-09-22 10:14:00   \n",
              "194923  2008-09-22 11:33:00   \n",
              "\n",
              "                                                  content  category  \n",
              "0       «Հայաստան» խմբակցությունը հաշվի առնելով հանրայ...         4  \n",
              "1       Սեպտեմբերի 24-ին Նյու Յորքում ՄԱԿ-ի Գլխավոր աս...         4  \n",
              "2        «Ազատություն» ՌԿ եթերում ՀՀ փոխվարչապետ Սուրե...         4  \n",
              "3       Մեկնաբանություն չունեմ, ես հիմա պիտի Էրդողանին...         4  \n",
              "4       ԱՄՆ Կոնգրեսի հայկական հարցերի հանձնախմբի համան...         4  \n",
              "...                                                   ...       ...  \n",
              "194919  Պակիստանի մայրաքաղաք Իսլամաբադում տեղի ունեցած...         2  \n",
              "194920  Չինաստանի հարավում գտնվող Գուանդոն նահանգի Շեն...         2  \n",
              "194921  Իրաքի հյուսիսում իրականացված երկու ահաբեկչությ...         2  \n",
              "194922  Իսպանիայի հյուսիսում գտնվող Օնդառոա քաղաքում գ...         2  \n",
              "194923  Չինաստանում, ըստ վերջին տվյալների, ավելի քան 1...         2  \n",
              "\n",
              "[413325 rows x 4 columns]"
            ],
            "text/html": [
              "\n",
              "  <div id=\"df-4fb02ded-a817-4230-b1b6-9d6ecb31aac3\" class=\"colab-df-container\">\n",
              "    <div>\n",
              "<style scoped>\n",
              "    .dataframe tbody tr th:only-of-type {\n",
              "        vertical-align: middle;\n",
              "    }\n",
              "\n",
              "    .dataframe tbody tr th {\n",
              "        vertical-align: top;\n",
              "    }\n",
              "\n",
              "    .dataframe thead th {\n",
              "        text-align: right;\n",
              "    }\n",
              "</style>\n",
              "<table border=\"1\" class=\"dataframe\">\n",
              "  <thead>\n",
              "    <tr style=\"text-align: right;\">\n",
              "      <th></th>\n",
              "      <th>title</th>\n",
              "      <th>date</th>\n",
              "      <th>content</th>\n",
              "      <th>category</th>\n",
              "    </tr>\n",
              "  </thead>\n",
              "  <tbody>\n",
              "    <tr>\n",
              "      <th>0</th>\n",
              "      <td>Առողջապահության նախարարի՝ հոկտեմբերի 1-ից ուժի...</td>\n",
              "      <td>2021-09-24 19:14:00</td>\n",
              "      <td>«Հայաստան» խմբակցությունը հաշվի առնելով հանրայ...</td>\n",
              "      <td>4</td>\n",
              "    </tr>\n",
              "    <tr>\n",
              "      <th>1</th>\n",
              "      <td>Ադրբեջանը շարունակում է թաքցնել գերիների իրակա...</td>\n",
              "      <td>2021-09-24 20:21:00</td>\n",
              "      <td>Սեպտեմբերի 24-ին Նյու Յորքում ՄԱԿ-ի Գլխավոր աս...</td>\n",
              "      <td>4</td>\n",
              "    </tr>\n",
              "    <tr>\n",
              "      <th>2</th>\n",
              "      <td>Այն, որ ՀՀ-ն հիմա ՀԱՊԿ նախագահող է, մեզ լրացու...</td>\n",
              "      <td>2021-09-23 18:42:00</td>\n",
              "      <td>«Ազատություն» ՌԿ եթերում ՀՀ փոխվարչապետ Սուրե...</td>\n",
              "      <td>4</td>\n",
              "    </tr>\n",
              "    <tr>\n",
              "      <th>3</th>\n",
              "      <td>Փաշինյան-Էրդողան հանդիպում նախատեսված չէ. Սուր...</td>\n",
              "      <td>2021-09-23 19:09:00</td>\n",
              "      <td>Մեկնաբանություն չունեմ, ես հիմա պիտի Էրդողանին...</td>\n",
              "      <td>4</td>\n",
              "    </tr>\n",
              "    <tr>\n",
              "      <th>4</th>\n",
              "      <td>Ֆրենկ Փալոնը շնորհավորել է Անկախության տոնի կա...</td>\n",
              "      <td>2021-09-21 22:27:00</td>\n",
              "      <td>ԱՄՆ Կոնգրեսի հայկական հարցերի հանձնախմբի համան...</td>\n",
              "      <td>4</td>\n",
              "    </tr>\n",
              "    <tr>\n",
              "      <th>...</th>\n",
              "      <td>...</td>\n",
              "      <td>...</td>\n",
              "      <td>...</td>\n",
              "      <td>...</td>\n",
              "    </tr>\n",
              "    <tr>\n",
              "      <th>194919</th>\n",
              "      <td>Պակիստանում զոհերի թիվն աճում է</td>\n",
              "      <td>2008-09-21 14:57:00</td>\n",
              "      <td>Պակիստանի մայրաքաղաք Իսլամաբադում տեղի ունեցած...</td>\n",
              "      <td>2</td>\n",
              "    </tr>\n",
              "    <tr>\n",
              "      <th>194920</th>\n",
              "      <td>Չինաստանում հրդեհի արդյունքում զոհվել են տասնյ...</td>\n",
              "      <td>2008-09-21 15:17:00</td>\n",
              "      <td>Չինաստանի հարավում գտնվող Գուանդոն նահանգի Շեն...</td>\n",
              "      <td>2</td>\n",
              "    </tr>\n",
              "    <tr>\n",
              "      <th>194921</th>\n",
              "      <td>Իրաքում ահաբեկչական գործողությունների հետևանքո...</td>\n",
              "      <td>2008-09-22 10:04:00</td>\n",
              "      <td>Իրաքի հյուսիսում իրականացված երկու ահաբեկչությ...</td>\n",
              "      <td>2</td>\n",
              "    </tr>\n",
              "    <tr>\n",
              "      <th>194922</th>\n",
              "      <td>Իսպանիան հայտնվել է ահաբեկչությունների կիզակետում</td>\n",
              "      <td>2008-09-22 10:14:00</td>\n",
              "      <td>Իսպանիայի հյուսիսում գտնվող Օնդառոա քաղաքում գ...</td>\n",
              "      <td>2</td>\n",
              "    </tr>\n",
              "    <tr>\n",
              "      <th>194923</th>\n",
              "      <td>Չինաստանում ավելի քան 13 հազ. մանուկներ են տեղ...</td>\n",
              "      <td>2008-09-22 11:33:00</td>\n",
              "      <td>Չինաստանում, ըստ վերջին տվյալների, ավելի քան 1...</td>\n",
              "      <td>2</td>\n",
              "    </tr>\n",
              "  </tbody>\n",
              "</table>\n",
              "<p>413325 rows × 4 columns</p>\n",
              "</div>\n",
              "    <div class=\"colab-df-buttons\">\n",
              "\n",
              "  <div class=\"colab-df-container\">\n",
              "    <button class=\"colab-df-convert\" onclick=\"convertToInteractive('df-4fb02ded-a817-4230-b1b6-9d6ecb31aac3')\"\n",
              "            title=\"Convert this dataframe to an interactive table.\"\n",
              "            style=\"display:none;\">\n",
              "\n",
              "  <svg xmlns=\"http://www.w3.org/2000/svg\" height=\"24px\" viewBox=\"0 -960 960 960\">\n",
              "    <path d=\"M120-120v-720h720v720H120Zm60-500h600v-160H180v160Zm220 220h160v-160H400v160Zm0 220h160v-160H400v160ZM180-400h160v-160H180v160Zm440 0h160v-160H620v160ZM180-180h160v-160H180v160Zm440 0h160v-160H620v160Z\"/>\n",
              "  </svg>\n",
              "    </button>\n",
              "\n",
              "  <style>\n",
              "    .colab-df-container {\n",
              "      display:flex;\n",
              "      gap: 12px;\n",
              "    }\n",
              "\n",
              "    .colab-df-convert {\n",
              "      background-color: #E8F0FE;\n",
              "      border: none;\n",
              "      border-radius: 50%;\n",
              "      cursor: pointer;\n",
              "      display: none;\n",
              "      fill: #1967D2;\n",
              "      height: 32px;\n",
              "      padding: 0 0 0 0;\n",
              "      width: 32px;\n",
              "    }\n",
              "\n",
              "    .colab-df-convert:hover {\n",
              "      background-color: #E2EBFA;\n",
              "      box-shadow: 0px 1px 2px rgba(60, 64, 67, 0.3), 0px 1px 3px 1px rgba(60, 64, 67, 0.15);\n",
              "      fill: #174EA6;\n",
              "    }\n",
              "\n",
              "    .colab-df-buttons div {\n",
              "      margin-bottom: 4px;\n",
              "    }\n",
              "\n",
              "    [theme=dark] .colab-df-convert {\n",
              "      background-color: #3B4455;\n",
              "      fill: #D2E3FC;\n",
              "    }\n",
              "\n",
              "    [theme=dark] .colab-df-convert:hover {\n",
              "      background-color: #434B5C;\n",
              "      box-shadow: 0px 1px 3px 1px rgba(0, 0, 0, 0.15);\n",
              "      filter: drop-shadow(0px 1px 2px rgba(0, 0, 0, 0.3));\n",
              "      fill: #FFFFFF;\n",
              "    }\n",
              "  </style>\n",
              "\n",
              "    <script>\n",
              "      const buttonEl =\n",
              "        document.querySelector('#df-4fb02ded-a817-4230-b1b6-9d6ecb31aac3 button.colab-df-convert');\n",
              "      buttonEl.style.display =\n",
              "        google.colab.kernel.accessAllowed ? 'block' : 'none';\n",
              "\n",
              "      async function convertToInteractive(key) {\n",
              "        const element = document.querySelector('#df-4fb02ded-a817-4230-b1b6-9d6ecb31aac3');\n",
              "        const dataTable =\n",
              "          await google.colab.kernel.invokeFunction('convertToInteractive',\n",
              "                                                    [key], {});\n",
              "        if (!dataTable) return;\n",
              "\n",
              "        const docLinkHtml = 'Like what you see? Visit the ' +\n",
              "          '<a target=\"_blank\" href=https://colab.research.google.com/notebooks/data_table.ipynb>data table notebook</a>'\n",
              "          + ' to learn more about interactive tables.';\n",
              "        element.innerHTML = '';\n",
              "        dataTable['output_type'] = 'display_data';\n",
              "        await google.colab.output.renderOutput(dataTable, element);\n",
              "        const docLink = document.createElement('div');\n",
              "        docLink.innerHTML = docLinkHtml;\n",
              "        element.appendChild(docLink);\n",
              "      }\n",
              "    </script>\n",
              "  </div>\n",
              "\n",
              "\n",
              "<div id=\"df-f17ee7fe-fc81-48d6-bcd2-61b0fd6c8e25\">\n",
              "  <button class=\"colab-df-quickchart\" onclick=\"quickchart('df-f17ee7fe-fc81-48d6-bcd2-61b0fd6c8e25')\"\n",
              "            title=\"Suggest charts\"\n",
              "            style=\"display:none;\">\n",
              "\n",
              "<svg xmlns=\"http://www.w3.org/2000/svg\" height=\"24px\"viewBox=\"0 0 24 24\"\n",
              "     width=\"24px\">\n",
              "    <g>\n",
              "        <path d=\"M19 3H5c-1.1 0-2 .9-2 2v14c0 1.1.9 2 2 2h14c1.1 0 2-.9 2-2V5c0-1.1-.9-2-2-2zM9 17H7v-7h2v7zm4 0h-2V7h2v10zm4 0h-2v-4h2v4z\"/>\n",
              "    </g>\n",
              "</svg>\n",
              "  </button>\n",
              "\n",
              "<style>\n",
              "  .colab-df-quickchart {\n",
              "      --bg-color: #E8F0FE;\n",
              "      --fill-color: #1967D2;\n",
              "      --hover-bg-color: #E2EBFA;\n",
              "      --hover-fill-color: #174EA6;\n",
              "      --disabled-fill-color: #AAA;\n",
              "      --disabled-bg-color: #DDD;\n",
              "  }\n",
              "\n",
              "  [theme=dark] .colab-df-quickchart {\n",
              "      --bg-color: #3B4455;\n",
              "      --fill-color: #D2E3FC;\n",
              "      --hover-bg-color: #434B5C;\n",
              "      --hover-fill-color: #FFFFFF;\n",
              "      --disabled-bg-color: #3B4455;\n",
              "      --disabled-fill-color: #666;\n",
              "  }\n",
              "\n",
              "  .colab-df-quickchart {\n",
              "    background-color: var(--bg-color);\n",
              "    border: none;\n",
              "    border-radius: 50%;\n",
              "    cursor: pointer;\n",
              "    display: none;\n",
              "    fill: var(--fill-color);\n",
              "    height: 32px;\n",
              "    padding: 0;\n",
              "    width: 32px;\n",
              "  }\n",
              "\n",
              "  .colab-df-quickchart:hover {\n",
              "    background-color: var(--hover-bg-color);\n",
              "    box-shadow: 0 1px 2px rgba(60, 64, 67, 0.3), 0 1px 3px 1px rgba(60, 64, 67, 0.15);\n",
              "    fill: var(--button-hover-fill-color);\n",
              "  }\n",
              "\n",
              "  .colab-df-quickchart-complete:disabled,\n",
              "  .colab-df-quickchart-complete:disabled:hover {\n",
              "    background-color: var(--disabled-bg-color);\n",
              "    fill: var(--disabled-fill-color);\n",
              "    box-shadow: none;\n",
              "  }\n",
              "\n",
              "  .colab-df-spinner {\n",
              "    border: 2px solid var(--fill-color);\n",
              "    border-color: transparent;\n",
              "    border-bottom-color: var(--fill-color);\n",
              "    animation:\n",
              "      spin 1s steps(1) infinite;\n",
              "  }\n",
              "\n",
              "  @keyframes spin {\n",
              "    0% {\n",
              "      border-color: transparent;\n",
              "      border-bottom-color: var(--fill-color);\n",
              "      border-left-color: var(--fill-color);\n",
              "    }\n",
              "    20% {\n",
              "      border-color: transparent;\n",
              "      border-left-color: var(--fill-color);\n",
              "      border-top-color: var(--fill-color);\n",
              "    }\n",
              "    30% {\n",
              "      border-color: transparent;\n",
              "      border-left-color: var(--fill-color);\n",
              "      border-top-color: var(--fill-color);\n",
              "      border-right-color: var(--fill-color);\n",
              "    }\n",
              "    40% {\n",
              "      border-color: transparent;\n",
              "      border-right-color: var(--fill-color);\n",
              "      border-top-color: var(--fill-color);\n",
              "    }\n",
              "    60% {\n",
              "      border-color: transparent;\n",
              "      border-right-color: var(--fill-color);\n",
              "    }\n",
              "    80% {\n",
              "      border-color: transparent;\n",
              "      border-right-color: var(--fill-color);\n",
              "      border-bottom-color: var(--fill-color);\n",
              "    }\n",
              "    90% {\n",
              "      border-color: transparent;\n",
              "      border-bottom-color: var(--fill-color);\n",
              "    }\n",
              "  }\n",
              "</style>\n",
              "\n",
              "  <script>\n",
              "    async function quickchart(key) {\n",
              "      const quickchartButtonEl =\n",
              "        document.querySelector('#' + key + ' button');\n",
              "      quickchartButtonEl.disabled = true;  // To prevent multiple clicks.\n",
              "      quickchartButtonEl.classList.add('colab-df-spinner');\n",
              "      try {\n",
              "        const charts = await google.colab.kernel.invokeFunction(\n",
              "            'suggestCharts', [key], {});\n",
              "      } catch (error) {\n",
              "        console.error('Error during call to suggestCharts:', error);\n",
              "      }\n",
              "      quickchartButtonEl.classList.remove('colab-df-spinner');\n",
              "      quickchartButtonEl.classList.add('colab-df-quickchart-complete');\n",
              "    }\n",
              "    (() => {\n",
              "      let quickchartButtonEl =\n",
              "        document.querySelector('#df-f17ee7fe-fc81-48d6-bcd2-61b0fd6c8e25 button');\n",
              "      quickchartButtonEl.style.display =\n",
              "        google.colab.kernel.accessAllowed ? 'block' : 'none';\n",
              "    })();\n",
              "  </script>\n",
              "</div>\n",
              "    </div>\n",
              "  </div>\n"
            ]
          },
          "metadata": {},
          "execution_count": 20
        }
      ]
    },
    {
      "cell_type": "code",
      "source": [
        "from torchtext.data.utils import get_tokenizer\n",
        "from torchtext.vocab import build_vocab_from_iterator\n",
        "\n",
        "tokenizer = get_tokenizer('basic_english')\n",
        "\n",
        "def yield_tokens(data_train):\n",
        "  for text in data_train:\n",
        "    yield tokenizer(text)\n",
        "\n",
        "vocab = build_vocab_from_iterator(yield_tokens(data['content']), specials=[\"<unk>\"])\n",
        "vocab.set_default_index(vocab[\"<unk>\"])  # какой индекс нужно вернуть, если слово не найдено в словаре"
      ],
      "metadata": {
        "id": "nx6pP3m5igPb"
      },
      "execution_count": 21,
      "outputs": []
    },
    {
      "cell_type": "code",
      "source": [
        "'''\n",
        "сlass ArmenianNewsDataset(Dataset):\n",
        "    def __init__(self, data_title, data_date, data_text, y):\n",
        "        self.title = data_title\n",
        "        self.date = data_date\n",
        "        self.text = data_text\n",
        "        self.y = y\n",
        "\n",
        "    def __len__(self):\n",
        "        return len(self.title)\n",
        "\n",
        "    def __getitem__(self, idx):\n",
        "        label = self.y.iloc[idx]\n",
        "        out_title = vocab(tokenizer(self.title.iloc[idx]))\n",
        "        out_date = 0\n",
        "        out_text = vocab(tokenizer(self.text.iloc[idx]))\n",
        "        return out_title, out_date, out_text, label\n",
        "'''"
      ],
      "metadata": {
        "colab": {
          "base_uri": "https://localhost:8080/",
          "height": 87
        },
        "id": "RpGWeFDWKQIr",
        "outputId": "e4c128bf-b742-4d80-a7e2-4ae1fe2b6d99"
      },
      "execution_count": 22,
      "outputs": [
        {
          "output_type": "execute_result",
          "data": {
            "text/plain": [
              "'\\nсlass ArmenianNewsDataset(Dataset):\\n    def __init__(self, data_title, data_date, data_text, y):\\n        self.title = data_title\\n        self.date = data_date\\n        self.text = data_text\\n        self.y = y\\n\\n    def __len__(self):\\n        return len(self.title)\\n\\n    def __getitem__(self, idx):\\n        label = self.y.iloc[idx]\\n        out_title = vocab(tokenizer(self.title.iloc[idx]))\\n        out_date = 0\\n        out_text = vocab(tokenizer(self.text.iloc[idx]))\\n        return out_title, out_date, out_text, label\\n'"
            ],
            "application/vnd.google.colaboratory.intrinsic+json": {
              "type": "string"
            }
          },
          "metadata": {},
          "execution_count": 22
        }
      ]
    },
    {
      "cell_type": "code",
      "source": [
        "class ArmenianNewsDataset(Dataset):\n",
        "    def __init__(self, data_text, y):\n",
        "        self.text = data_text\n",
        "        self.y = y\n",
        "\n",
        "    def __len__(self):\n",
        "        return len(self.text)\n",
        "\n",
        "    def __getitem__(self, idx):\n",
        "        return vocab(tokenizer(self.text.iloc[idx])), self.y.iloc[idx]"
      ],
      "metadata": {
        "id": "4N2LEjBihoMw"
      },
      "execution_count": 23,
      "outputs": []
    },
    {
      "cell_type": "code",
      "source": [
        "data_train, data_test, y_train, y_test = train_test_split(data['content'], data['category'], test_size=0.3)\n",
        "trainset = ArmenianNewsDataset(data_text=data_train, y=y_train)\n",
        "testset = ArmenianNewsDataset(data_text=data_test, y=y_test)"
      ],
      "metadata": {
        "id": "KGxf5zfRKplm"
      },
      "execution_count": 24,
      "outputs": []
    },
    {
      "cell_type": "code",
      "source": [
        "def collate_batch(batch):\n",
        "    label_list, text_list, offsets = [], [], [0]\n",
        "    for (_text, _label) in batch:\n",
        "         label_list.append(_label)\n",
        "         processed_text = torch.tensor(_text, dtype=torch.int64)\n",
        "         text_list.append(processed_text)\n",
        "         offsets.append(processed_text.size(0))\n",
        "    label_list = torch.tensor(label_list, dtype=torch.int64, device = cuda0)\n",
        "    offsets = torch.tensor(offsets[:-1], device = cuda0).cumsum(dim=0)\n",
        "    text_list = torch.cat(text_list)\n",
        "    text_list = text_list.to(cuda0)\n",
        "    return label_list, text_list, offsets"
      ],
      "metadata": {
        "id": "Nm3pXCg0K_YE"
      },
      "execution_count": 43,
      "outputs": []
    },
    {
      "cell_type": "code",
      "source": [
        "trainloader = DataLoader(trainset, batch_size=8, shuffle=False, collate_fn=collate_batch)\n",
        "testloader = DataLoader(testset, batch_size=8, shuffle=False, collate_fn=collate_batch)"
      ],
      "metadata": {
        "id": "IMiEOfQvLMJq"
      },
      "execution_count": 44,
      "outputs": []
    },
    {
      "cell_type": "code",
      "source": [
        "num_class = len(set(y_train))\n",
        "vocab_size = len(vocab)\n",
        "print(\"Кол-во классов: \", num_class)\n",
        "print(\"Размер словаря: \", vocab_size)"
      ],
      "metadata": {
        "colab": {
          "base_uri": "https://localhost:8080/"
        },
        "id": "8-Oh3RjJLXcb",
        "outputId": "cdedb164-8f7a-416b-c70f-c883fd4347cd"
      },
      "execution_count": 45,
      "outputs": [
        {
          "output_type": "stream",
          "name": "stdout",
          "text": [
            "Кол-во классов:  9\n",
            "Размер словаря:  1194648\n"
          ]
        }
      ]
    },
    {
      "cell_type": "code",
      "source": [
        "class TextClassificationModel(nn.Module):\n",
        "    def __init__(self):\n",
        "        super(TextClassificationModel, self).__init__()\n",
        "        self.bag = nn.EmbeddingBag(vocab_size, 64, sparse=True)  # слой-матрица размером 81125 x 64, 81125 - такое количество слов в слловаре\n",
        "        self.lin = nn.Linear(64, num_class)  # на вход подаётся 64 числа - выход от self.bag, слой выдаёт 4 числа - вероятность каждой новости, их 4 типа\n",
        "\n",
        "    def forward(self, text, offsets):\n",
        "        return self.lin(self.bag(text, offsets))"
      ],
      "metadata": {
        "id": "450enxVmNX7d"
      },
      "execution_count": 46,
      "outputs": []
    },
    {
      "cell_type": "code",
      "source": [
        "net = TextClassificationModel()\n",
        "net.to(cuda0)\n",
        "criterion = nn.CrossEntropyLoss()\n",
        "optimizer = optim.SGD(net.parameters(), lr= 1)"
      ],
      "metadata": {
        "id": "obDwvIx8NiEe"
      },
      "execution_count": 87,
      "outputs": []
    },
    {
      "cell_type": "code",
      "source": [
        "losses = []\n",
        "running_corrects = 0\n",
        "net.train(True)\n",
        "for epoch in range(3):\n",
        "    running_loss = 0.0\n",
        "    running_corrects = 0.0\n",
        "    for i, data in enumerate(trainloader, 0):\n",
        "        labels, inputs, offsets = data\n",
        "        outputs = net(inputs, offsets)\n",
        "        _, preds = torch.max(outputs.data, 1)\n",
        "        optimizer.zero_grad()\n",
        "        loss = criterion(outputs, labels)\n",
        "        loss.backward()\n",
        "        optimizer.step()\n",
        "        running_loss += loss.item()\n",
        "        running_corrects += int(torch.sum(preds == labels.data)) / len(labels)\n",
        "        if i % 10000 == 9999:\n",
        "          print('[%d, %5d] loss: %.3f accuracy: %.3f' % (epoch + 1, i + 1, running_loss/10000, running_corrects/10000 ))\n",
        "          losses += [running_loss/10000]\n",
        "          running_loss = 0.0\n",
        "          running_corrects = 0.0\n",
        "print('Finished Training')"
      ],
      "metadata": {
        "colab": {
          "base_uri": "https://localhost:8080/"
        },
        "id": "FK4OxDwFNzzD",
        "outputId": "f35cbe28-0a43-45df-c79f-fa4a2750cfb7"
      },
      "execution_count": 88,
      "outputs": [
        {
          "output_type": "stream",
          "name": "stdout",
          "text": [
            "[1, 10000] loss: 0.917 accuracy: 0.703\n",
            "[1, 20000] loss: 0.683 accuracy: 0.762\n",
            "[1, 30000] loss: 0.627 accuracy: 0.778\n",
            "[2, 10000] loss: 0.572 accuracy: 0.794\n",
            "[2, 20000] loss: 0.550 accuracy: 0.799\n",
            "[2, 30000] loss: 0.539 accuracy: 0.803\n",
            "[3, 10000] loss: 0.515 accuracy: 0.809\n",
            "[3, 20000] loss: 0.504 accuracy: 0.812\n",
            "[3, 30000] loss: 0.499 accuracy: 0.815\n",
            "Finished Training\n"
          ]
        }
      ]
    },
    {
      "cell_type": "code",
      "source": [
        "net.train(False)\n",
        "runninig_correct = 0\n",
        "num_of_tests = 0\n",
        "for data in testloader:\n",
        "    labels, inputs, offsets = data\n",
        "    output = net(inputs, offsets)\n",
        "    _, predicted = torch.max(output, 1)\n",
        "    runninig_correct += int(torch.sum(predicted == labels)) / len(labels)\n",
        "    num_of_tests += 1\n",
        "print(runninig_correct / num_of_tests)"
      ],
      "metadata": {
        "colab": {
          "base_uri": "https://localhost:8080/"
        },
        "id": "CovlTIk6Wag0",
        "outputId": "d89af968-839d-4a7f-ea14-cf2b199a560f"
      },
      "execution_count": 89,
      "outputs": [
        {
          "output_type": "stream",
          "name": "stdout",
          "text": [
            "0.8058118279569892\n"
          ]
        }
      ]
    }
  ]
}